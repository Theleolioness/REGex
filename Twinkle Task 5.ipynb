{
 "cells": [
  {
   "cell_type": "markdown",
   "source": [
    "# ***TASK5***\r\n",
    "## Registration/referral ID - SIRSS2316.\r\n",
    "## Full Name: Ayushi Choudhary.\r\n",
    "## College: Maharaja Surajmal Institute Of Technology "
   ],
   "metadata": {}
  },
  {
   "cell_type": "markdown",
   "source": [
    "### ***Q1. Given a list of integers, write a function to return the sum of all prime numbers in that list.***"
   ],
   "metadata": {}
  },
  {
   "cell_type": "code",
   "execution_count": 1,
   "source": [
    "numbers=input(\"\").split(' ')\r\n",
    "sum=0\r\n",
    "for n in numbers:\r\n",
    "    n=int(n)\r\n",
    "    isPrime=True\r\n",
    "    if n > 1:\r\n",
    "       \r\n",
    "        for i in range(2, n):\r\n",
    "            if (n % i) == 0:\r\n",
    "                isPrime=False\r\n",
    "                break\r\n",
    "        if isPrime:\r\n",
    "            sum+=n\r\n",
    "\r\n",
    "print(str(sum))"
   ],
   "outputs": [
    {
     "output_type": "stream",
     "name": "stdout",
     "text": [
      "12\n"
     ]
    }
   ],
   "metadata": {}
  },
  {
   "cell_type": "markdown",
   "source": [
    "## ***Q2. Given a list of integers, write a function to check whether the list is strictly increasing or not.***"
   ],
   "metadata": {}
  },
  {
   "cell_type": "code",
   "execution_count": 2,
   "source": [
    "\r\n",
    "list = [1, 4, 5, 7, 8, 10]\r\n",
    "  \r\n",
    "\r\n",
    "print (\"Original list : \" + str(list))\r\n",
    "  \r\n",
    "result = all(i < j for i, j in zip(list,list[1:]))\r\n",
    "  \r\n",
    "\r\n",
    "print (\"Is the list strictly increasing ? : \" + str(result))"
   ],
   "outputs": [
    {
     "output_type": "stream",
     "name": "stdout",
     "text": [
      "Original list : [1, 4, 5, 7, 8, 10]\n",
      "Is the list strictly increasing ? : True\n"
     ]
    }
   ],
   "metadata": {}
  },
  {
   "cell_type": "markdown",
   "source": [
    "### ***Q3. Write a function to check whether a given list is expanding or not (the difference between adjacent elements should keep on increasing).***"
   ],
   "metadata": {}
  },
  {
   "cell_type": "code",
   "execution_count": 3,
   "source": [
    "def expand(m):\n",
    "    a = abs(m[1] - m[0])\n",
    "    b = abs(m[2] - m[1])\n",
    "    \n",
    "    if a >= b:\n",
    "        return False\n",
    "    \n",
    "    else:\n",
    "        for i in range(3,len(m)):\n",
    "            c = abs(m[i] - m[i-1])\n",
    "            if c <= b:\n",
    "                return False\n",
    "            b = c\n",
    "        else:\n",
    "            return True\n",
    "       "
   ],
   "outputs": [],
   "metadata": {}
  },
  {
   "cell_type": "code",
   "execution_count": 4,
   "source": [
    "expand([2,4,5,6,8])"
   ],
   "outputs": [
    {
     "output_type": "execute_result",
     "data": {
      "text/plain": [
       "False"
      ]
     },
     "metadata": {},
     "execution_count": 4
    }
   ],
   "metadata": {}
  },
  {
   "cell_type": "markdown",
   "source": [
    "## ***Q4. Write a function to calculate all permutations of a given string. (Without using itertools)***"
   ],
   "metadata": {}
  },
  {
   "cell_type": "code",
   "execution_count": 7,
   "source": [
    "def permutation(n, ans):\r\n",
    "    if (len(n) == 0):\r\n",
    "        print(ans, end = \"  \")\r\n",
    "        return\r\n",
    "     \r\n",
    "    for i in range(len(n)):\r\n",
    "        ch = n[i]\r\n",
    "        left = n[0:i]\r\n",
    "        right = n[i + 1:]\r\n",
    "        rest = left + right\r\n",
    "        permutation(rest, ans + ch)\r\n",
    " \r\n",
    "\r\n",
    "ans = \"\"\r\n",
    " \r\n",
    "n = input(\"Enter the string : \")\r\n",
    " \r\n",
    "print(\"All possible strings are : \")\r\n",
    "permutation(n, ans)"
   ],
   "outputs": [
    {
     "output_type": "stream",
     "name": "stdout",
     "text": [
      "All possible strings are : \n",
      "ravi  raiv  rvai  rvia  riav  riva  arvi  ariv  avri  avir  airv  aivr  vrai  vria  vari  vair  vira  viar  irav  irva  iarv  iavr  ivra  ivar  "
     ]
    }
   ],
   "metadata": {}
  }
 ],
 "metadata": {
  "kernelspec": {
   "display_name": "Python 3",
   "language": "python",
   "name": "python3"
  },
  "language_info": {
   "codemirror_mode": {
    "name": "ipython",
    "version": 3
   },
   "file_extension": ".py",
   "mimetype": "text/x-python",
   "name": "python",
   "nbconvert_exporter": "python",
   "pygments_lexer": "ipython3",
   "version": "3.8.3"
  }
 },
 "nbformat": 4,
 "nbformat_minor": 4
}